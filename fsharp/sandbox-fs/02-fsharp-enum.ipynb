{
 "cells": [
  {
   "cell_type": "markdown",
   "metadata": {},
   "source": [
    "# 列挙型（enum）\n",
    "\n",
    "[列挙 - F# | Microsoft Docs](https://docs.microsoft.com/ja-jp/dotnet/fsharp/language-reference/enumerations) を参考に enum の動作を確認する。"
   ]
  },
  {
   "cell_type": "markdown",
   "metadata": {},
   "source": [
    "定義"
   ]
  },
  {
   "cell_type": "code",
   "execution_count": 3,
   "metadata": {},
   "outputs": [],
   "source": [
    "type Sushi =\n",
    "  | Nigirizushi = 0\n",
    "  | Makizushi = 1\n",
    "  | Gunkanmaki = 2\n",
    "  | Chirashizushi = 3\n",
    "  | Inarizushi = 4\n",
    "  | Oshizushi = 5"
   ]
  },
  {
   "cell_type": "markdown",
   "metadata": {},
   "source": [
    "## 列挙型を int 型に"
   ]
  },
  {
   "cell_type": "code",
   "execution_count": 21,
   "metadata": {},
   "outputs": [
    {
     "name": "stdout",
     "output_type": "stream",
     "text": [
      "result = 1\n"
     ]
    },
    {
     "data": {
      "text/html": [
       "<null>"
      ]
     },
     "execution_count": 21,
     "metadata": {},
     "output_type": "execute_result"
    }
   ],
   "source": [
    "let maki = int Sushi.Makizushi\n",
    "printfn \"result = %d\" maki"
   ]
  },
  {
   "cell_type": "markdown",
   "metadata": {},
   "source": [
    "## int 型から列挙型に"
   ]
  },
  {
   "cell_type": "code",
   "execution_count": 22,
   "metadata": {},
   "outputs": [
    {
     "name": "stdout",
     "output_type": "stream",
     "text": [
      "type = Sushi\n",
      "result = Gunkanmaki\n"
     ]
    },
    {
     "data": {
      "text/html": [
       "<null>"
      ]
     },
     "execution_count": 22,
     "metadata": {},
     "output_type": "execute_result"
    }
   ],
   "source": [
    "let gunkan = enum<Sushi>(2)\n",
    "printfn \"type = %s\" (gunkan.GetType().Name)    // type = Sushi\n",
    "printfn \"result = %A\" gunkan                   // result = Gunkanmaki"
   ]
  },
  {
   "cell_type": "markdown",
   "metadata": {},
   "source": [
    "## 文字列から列挙型に"
   ]
  },
  {
   "cell_type": "code",
   "execution_count": 24,
   "metadata": {},
   "outputs": [
    {
     "name": "stdout",
     "output_type": "stream",
     "text": [
      "type = Sushi\n",
      "result = Inarizushi\n"
     ]
    },
    {
     "data": {
      "text/html": [
       "<null>"
      ]
     },
     "execution_count": 24,
     "metadata": {},
     "output_type": "execute_result"
    }
   ],
   "source": [
    "let result = System.Enum.Parse(typeof<Sushi>, \"Inarizushi\") :?> Sushi\n",
    "printfn \"type = %s\" (result.GetType().Name)    // type = Sushi\n",
    "printfn \"result = %A\" result                   // result = Inarizushi"
   ]
  },
  {
   "cell_type": "markdown",
   "metadata": {},
   "source": [
    "大文字小文字が一致していないと識別されない"
   ]
  },
  {
   "cell_type": "code",
   "execution_count": 6,
   "metadata": {},
   "outputs": [
    {
     "ename": "Unhandled Exception",
     "evalue": "Requested value 'INARIZUSHI' was not found.",
     "output_type": "error",
     "traceback": [
      "Unhandled Exception",
      "Requested value 'INARIZUSHI' was not found.",
      "   at System.Enum.TryParseByName(RuntimeType enumType, String originalValueString, ReadOnlySpan`1 value, Boolean ignoreCase, Boolean throwOnFailure, UInt64& result)",
      "   at System.Enum.TryParseInt32Enum(RuntimeType enumType, String originalValueString, ReadOnlySpan`1 value, Int32 minInclusive, Int32 maxInclusive, Boolean ignoreCase, Boolean throwOnFailure, TypeCode type, Int32& result)",
      "   at System.Enum.TryParse(Type enumType, String value, Boolean ignoreCase, Boolean throwOnFailure, Object& result)",
      "   at System.Enum.Parse(Type enumType, String value)",
      "   at <StartupCode$FSI_0008>.$FSI_0008.main@()"
     ]
    }
   ],
   "source": [
    "let result = System.Enum.Parse(typeof<Sushi>, \"INARIZUSHI\") :?> Sushi"
   ]
  },
  {
   "cell_type": "markdown",
   "metadata": {},
   "source": [
    "## 定義されていない数値を代入してもエラーにならない"
   ]
  },
  {
   "cell_type": "code",
   "execution_count": 17,
   "metadata": {},
   "outputs": [
    {
     "name": "stdout",
     "output_type": "stream",
     "text": [
      "type = Sushi\n",
      "result = 999\n"
     ]
    },
    {
     "data": {
      "text/html": [
       "<null>"
      ]
     },
     "execution_count": 17,
     "metadata": {},
     "output_type": "execute_result"
    }
   ],
   "source": [
    "let other = enum<Sushi>(999)\n",
    "printfn \"type = %s\" (other.GetType().Name)\n",
    "printfn \"result = %A\" other"
   ]
  },
  {
   "cell_type": "markdown",
   "metadata": {},
   "source": [
    "## 定義されている変数を取得する"
   ]
  },
  {
   "cell_type": "code",
   "execution_count": 25,
   "metadata": {},
   "outputs": [
    {
     "name": "stdout",
     "output_type": "stream",
     "text": [
      "type = Sushi[]\n",
      "result = [|Nigirizushi; Makizushi; Gunkanmaki; Chirashizushi; Inarizushi; Oshizushi|]\n"
     ]
    },
    {
     "data": {
      "text/html": [
       "<null>"
      ]
     },
     "execution_count": 25,
     "metadata": {},
     "output_type": "execute_result"
    }
   ],
   "source": [
    "let allSushis = Enum.GetValues(typeof<Sushi>)\n",
    "printfn \"type = %s\" (allSushis.GetType().Name)    // type = Sushi[]\n",
    "printfn \"result = %A\" allSushis                   // result = [|Nigirizushi; Makizushi; Gunkanmaki; Chirashizushi; Inarizushi; Oshizushi|]"
   ]
  },
  {
   "cell_type": "markdown",
   "metadata": {},
   "source": [
    "## 定義されていない数値を代入してもエラーにならない"
   ]
  },
  {
   "cell_type": "code",
   "execution_count": 26,
   "metadata": {},
   "outputs": [
    {
     "name": "stdout",
     "output_type": "stream",
     "text": [
      "type = Sushi\n",
      "result = 999\n"
     ]
    },
    {
     "data": {
      "text/html": [
       "<null>"
      ]
     },
     "execution_count": 26,
     "metadata": {},
     "output_type": "execute_result"
    }
   ],
   "source": [
    "let other = enum<Sushi>(999)\n",
    "printfn \"type = %s\" (other.GetType().Name)    // type = Sushi\n",
    "printfn \"result = %A\" other                   // result = 999"
   ]
  },
  {
   "cell_type": "markdown",
   "metadata": {},
   "source": [
    "## match"
   ]
  },
  {
   "cell_type": "code",
   "execution_count": 5,
   "metadata": {},
   "outputs": [
    {
     "name": "stdout",
     "output_type": "stream",
     "text": [
      ">> Nigiri sushi\n",
      ">> Oshi zushi\n",
      ">> something else\n"
     ]
    },
    {
     "data": {
      "text/html": [
       "<null>"
      ]
     },
     "execution_count": 5,
     "metadata": {},
     "output_type": "execute_result"
    }
   ],
   "source": [
    "// match で使ってみる\n",
    "let testFunc v =\n",
    "  match v with\n",
    "  | Sushi.Nigirizushi -> printfn \">> Nigiri sushi\"\n",
    "  | Sushi.Oshizushi -> printfn \">> Oshi zushi\"\n",
    "  | _ -> printfn \">> something else\"\n",
    " \n",
    "testFunc Sushi.Nigirizushi    // >> Nigiri sushi\n",
    "testFunc Sushi.Oshizushi      // >> Oshi zushi\n",
    "testFunc Sushi.Makizushi      // >> something else"
   ]
  },
  {
   "cell_type": "markdown",
   "metadata": {},
   "source": [
    "## FSharp.Core.LanguagePrimitives"
   ]
  },
  {
   "cell_type": "code",
   "execution_count": 4,
   "metadata": {},
   "outputs": [
    {
     "name": "stdout",
     "output_type": "stream",
     "text": [
      "type = Int32\n",
      "result = 3\n",
      "type = Sushi\n",
      "result = Chirashizushi\n"
     ]
    },
    {
     "data": {
      "text/html": [
       "<null>"
      ]
     },
     "execution_count": 4,
     "metadata": {},
     "output_type": "execute_result"
    }
   ],
   "source": [
    "open FSharp.Core.LanguagePrimitives\n",
    "\n",
    "let v = EnumToValue Sushi.Chirashizushi\n",
    "printfn \"type = %s\" (v.GetType().Name)    // type = Int32\n",
    "printfn \"result = %A\" v                   // result = 3\n",
    "  \n",
    "let name = EnumOfValue<int, Sushi> v\n",
    "printfn \"type = %s\" (name.GetType().Name)    // type = Sushi\n",
    "printfn \"result = %A\" name                   // result = Chirashizushi"
   ]
  },
  {
   "cell_type": "code",
   "execution_count": null,
   "metadata": {},
   "outputs": [],
   "source": []
  }
 ],
 "metadata": {
  "kernelspec": {
   "display_name": ".NET (F#)",
   "language": "F#",
   "name": ".net-fsharp"
  },
  "language_info": {
   "file_extension": ".fs",
   "mimetype": "text/x-fsharp",
   "name": "C#",
   "pygments_lexer": "fsharp",
   "version": "4.5"
  }
 },
 "nbformat": 4,
 "nbformat_minor": 4
}
