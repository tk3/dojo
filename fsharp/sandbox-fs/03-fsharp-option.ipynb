{
 "cells": [
  {
   "cell_type": "markdown",
   "metadata": {},
   "source": [
    "# オプション\n",
    "\n",
    "- オプション - F# | Microsoft Docs https://docs.microsoft.com/ja-jp/dotnet/fsharp/language-reference/options\n",
    "- Core.Option Module (F#) https://msdn.microsoft.com/ja-jp/visualfsharpdocs/conceptual/core.option-module-%5bfsharp%5d"
   ]
  },
  {
   "cell_type": "code",
   "execution_count": 9,
   "metadata": {},
   "outputs": [
    {
     "name": "stdout",
     "output_type": "stream",
     "text": [
      "OK: 10\n"
     ]
    },
    {
     "data": {
      "text/html": [
       "<null>"
      ]
     },
     "execution_count": 9,
     "metadata": {},
     "output_type": "execute_result"
    }
   ],
   "source": [
    "\n",
    "let check (x : int) =\n",
    "  if x > 0 then\n",
    "    Some x\n",
    "  else\n",
    "    None\n",
    "\n",
    "let execute (x: int option) =\n",
    "  match x with\n",
    "  | Some(x) -> printfn \"OK: %d\" x\n",
    "  | None -> printfn \"NG\"\n",
    "\n",
    "check 10 |> execute\n"
   ]
  },
  {
   "cell_type": "code",
   "execution_count": 5,
   "metadata": {},
   "outputs": [
    {
     "name": "stdout",
     "output_type": "stream",
     "text": [
      "a is some\n"
     ]
    },
    {
     "data": {
      "text/html": [
       "<null>"
      ]
     },
     "execution_count": 5,
     "metadata": {},
     "output_type": "execute_result"
    }
   ],
   "source": [
    "let a = Some \"abcd\"\n",
    "if a.IsSome then\n",
    "  printfn \"a is some\""
   ]
  },
  {
   "cell_type": "code",
   "execution_count": 6,
   "metadata": {},
   "outputs": [
    {
     "name": "stdout",
     "output_type": "stream",
     "text": [
      "b is none\n"
     ]
    },
    {
     "data": {
      "text/html": [
       "<null>"
      ]
     },
     "execution_count": 6,
     "metadata": {},
     "output_type": "execute_result"
    }
   ],
   "source": [
    "let b = None\n",
    "if b.IsNone then\n",
    "  printfn \"b is none\""
   ]
  },
  {
   "cell_type": "code",
   "execution_count": 7,
   "metadata": {},
   "outputs": [
    {
     "ename": "Unhandled Exception",
     "evalue": "The option value was None (Parameter 'option')",
     "output_type": "error",
     "traceback": [
      "Unhandled Exception",
      "The option value was None (Parameter 'option')",
      "   at Microsoft.FSharp.Core.OptionModule.GetValue[T](FSharpOption`1 option) in F:\\workspace.1\\_work\\1\\s\\src\\fsharp\\FSharp.Core\\option.fs:line 11",
      "   at <StartupCode$FSI_0010>.$FSI_0010.main@()"
     ]
    }
   ],
   "source": [
    "let c = Option.get b    // throw ArgumentException: The option value was None\n",
    "printf \"%s\" c"
   ]
  },
  {
   "cell_type": "code",
   "execution_count": null,
   "metadata": {},
   "outputs": [],
   "source": []
  }
 ],
 "metadata": {
  "kernelspec": {
   "display_name": ".NET (F#)",
   "language": "F#",
   "name": ".net-fsharp"
  },
  "language_info": {
   "file_extension": ".fs",
   "mimetype": "text/x-fsharp",
   "name": "C#",
   "pygments_lexer": "fsharp",
   "version": "4.5"
  }
 },
 "nbformat": 4,
 "nbformat_minor": 4
}
