{
 "cells": [
  {
   "cell_type": "code",
   "execution_count": 3,
   "metadata": {},
   "outputs": [
    {
     "data": {
      "text/html": [
       "Installing package Moq, version 4.13.1..............................done!"
      ]
     },
     "metadata": {},
     "output_type": "display_data"
    },
    {
     "data": {
      "text/html": [
       "Successfully added reference to package Moq, version 4.13.1"
      ]
     },
     "metadata": {},
     "output_type": "display_data"
    }
   ],
   "source": [
    "#r \"nuget:Moq, 4.13.1\"\n",
    "using Moq;"
   ]
  },
  {
   "cell_type": "code",
   "execution_count": 4,
   "metadata": {},
   "outputs": [],
   "source": [
    "public interface IApiSdk\n",
    "{\n",
    "    public string GetTitle(string key);\n",
    "}\n",
    "\n",
    "public class ApiSdk : IApiSdk\n",
    "{\n",
    "    public string GetTitle(string key)\n",
    "    {\n",
    "        return string.Format(\"API::GetTitle({0})\", key);\n",
    "    }\n",
    "}\n",
    "\n",
    "/////////////////////////////////////////////////////////////////////\n",
    "\n",
    "public class Client\n",
    "{\n",
    "    public string Host\n",
    "    {\n",
    "        get;\n",
    "        private set;\n",
    "    }\n",
    "    \n",
    "    private IApiSdk _apiSdk;\n",
    "    \n",
    "    public Client(string host)\n",
    "    {\n",
    "        Host = host;\n",
    "        _apiSdk = new ApiSdk();\n",
    "    }\n",
    "\n",
    "    public Client(string host, IApiSdk apiSdk)\n",
    "    {\n",
    "        Host = host;\n",
    "        _apiSdk = apiSdk;\n",
    "    }\n",
    "\n",
    "    public string GetTitle(string key)\n",
    "    {\n",
    "        return _apiSdk.GetTitle(key);\n",
    "    }\n",
    "}"
   ]
  },
  {
   "cell_type": "code",
   "execution_count": 5,
   "metadata": {},
   "outputs": [
    {
     "name": "stdout",
     "output_type": "stream",
     "text": [
      "result: API::GetTitle(key1)\n"
     ]
    }
   ],
   "source": [
    "var client = new Client(\"https://example.com/\");\n",
    "var r = client.GetTitle(\"key1\");\n",
    "Console.WriteLine(\"result: {0}\", r);"
   ]
  },
  {
   "cell_type": "code",
   "execution_count": 6,
   "metadata": {},
   "outputs": [
    {
     "name": "stdout",
     "output_type": "stream",
     "text": [
      "result: hoge\n"
     ]
    }
   ],
   "source": [
    "var mock = new Mock<IApiSdk>();\n",
    "mock.Setup(m => m.GetTitle(\"aaa\")).Returns(\"hoge\");\n",
    "\n",
    "var client = new Client(\"https://example.com/\", mock.Object);\n",
    "var r = client.GetTitle(\"aaa\");\n",
    "Console.WriteLine(\"result: {0}\", r);"
   ]
  },
  {
   "cell_type": "code",
   "execution_count": 7,
   "metadata": {},
   "outputs": [
    {
     "data": {
      "text/plain": [
       "aaa bbb"
      ]
     },
     "metadata": {},
     "output_type": "display_data"
    }
   ],
   "source": [
    "public class Person\n",
    "{\n",
    "    public string FirstName;\n",
    "    public string LastName;\n",
    "    \n",
    "    public virtual string getFullName()\n",
    "    {\n",
    "        return string.Format(\"{0} {1}\", FirstName, LastName);\n",
    "    }\n",
    "}\n",
    "\n",
    "var mock = new Mock<Person>();\n",
    "mock.Setup(m => m.getFullName()).Returns(\"aaa bbb\");\n",
    "\n",
    "Person person = mock.Object;\n",
    "display(person.getFullName());"
   ]
  },
  {
   "cell_type": "code",
   "execution_count": 34,
   "metadata": {},
   "outputs": [
    {
     "data": {
      "text/plain": [
       "foo"
      ]
     },
     "metadata": {},
     "output_type": "display_data"
    }
   ],
   "source": [
    "public interface ISampleClass\n",
    "{\n",
    "    string DoSomething();\n",
    "    int GetSize();\n",
    "}\n",
    "\n",
    "public class MyClass\n",
    "{\n",
    "    ISampleClass sampleClass;\n",
    "\n",
    "    public MyClass(ISampleClass sampleClass)\n",
    "    {\n",
    "        this.sampleClass = sampleClass;\n",
    "    }\n",
    "\n",
    "    public string DoSomething()\n",
    "    {\n",
    "        return this.sampleClass.DoSomething();\n",
    "    }\n",
    "    \n",
    "    public int GetSize()\n",
    "    {\n",
    "        return this.sampleClass.GetSize();\n",
    "    }\n",
    "}\n",
    "\n",
    "////\n",
    "{\n",
    "    var mock = new Mock<ISampleClass>();\n",
    "    mock.Setup(m => m.DoSomething()).Returns(\"foo\");\n",
    "\n",
    "    var myClass = new MyClass(mock.Object);\n",
    "    display(myClass2.DoSomething());\n",
    "}\n",
    "////\n",
    "{\n",
    "    var mock = new Mock<ISampleClass>();\n",
    "\n",
    "    var myClass = new MyClass(mock.Object);\n",
    "    myClass.GetSize();\n",
    "\n",
    "    mock.Verify(m => m.GetSize(), Times.Once);\n",
    "}\n",
    "\n",
    "// It.IsAny<string>()\n",
    "\n",
    "/*\n",
    "Times.Exactly(4)\n",
    "Times.Never()\n",
    "\n",
    "Times.AtLeastOnce()\n",
    "\n",
    "AtLeast(int callCount)\n",
    "\n",
    "AtMost(int callCount)\n",
    "AtMostOnce()\n",
    "*/\n",
    "\n",
    "/*\n",
    "var mockedService = new Mock<IFormatProvider>();\n",
    "\n",
    "mockedService.When(() => DateTime.Now.Hour < 12).Setup(x => x.GetFormat(typeof(string))).Returns(null);\n",
    "mockedService.When(() => DateTime.Now.Hour >= 12).Setup(x => x.GetFormat(typeof(string))).Returns(42);\n",
    "*/"
   ]
  },
  {
   "cell_type": "code",
   "execution_count": null,
   "metadata": {},
   "outputs": [],
   "source": []
  }
 ],
 "metadata": {
  "kernelspec": {
   "display_name": ".NET (C#)",
   "language": "C#",
   "name": ".net-csharp"
  },
  "language_info": {
   "file_extension": ".cs",
   "mimetype": "text/x-csharp",
   "name": "C#",
   "pygments_lexer": "csharp",
   "version": "8.0"
  }
 },
 "nbformat": 4,
 "nbformat_minor": 4
}
