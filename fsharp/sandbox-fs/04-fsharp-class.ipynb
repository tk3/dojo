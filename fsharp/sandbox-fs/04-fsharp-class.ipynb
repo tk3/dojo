{
 "cells": [
  {
   "cell_type": "code",
   "execution_count": null,
   "metadata": {},
   "outputs": [],
   "source": []
  },
  {
   "cell_type": "code",
   "execution_count": 3,
   "metadata": {},
   "outputs": [
    {
     "name": "stdout",
     "output_type": "stream",
     "text": [
      "Hello World, F#\n",
      "1, user01, user01@example.com\n",
      "10, 20\n"
     ]
    },
    {
     "data": {
      "text/html": [
       "<null>"
      ]
     },
     "execution_count": 3,
     "metadata": {},
     "output_type": "execute_result"
    }
   ],
   "source": [
    "type Demo =\n",
    "    static member World = \"World\"\n",
    "    static member Hello(name: string) =\n",
    "      sprintf \"Hello %s, %s\" Demo.World name\n",
    "\n",
    "printfn \"%s\" (Demo.Hello(\"F#\"))\n",
    "\n",
    "\n",
    "type Demo2(id: int, userName: string, email: string) =\n",
    "  member _.Id = id\n",
    "  member _.UserName = userName\n",
    "  member _.Email = email\n",
    "\n",
    "let d = new Demo2(1, \"user01\", \"user01@example.com\")\n",
    "printfn \"%d, %s, %s\" d.Id d.UserName d.Email\n",
    "\n",
    "let function2<'T> x y =\n",
    "    printfn \"%A, %A\" x y\n",
    "\n",
    "function2<int> 10 20\n",
    "//function2<string> \"aa\" \"bb\""
   ]
  },
  {
   "cell_type": "code",
   "execution_count": null,
   "metadata": {},
   "outputs": [],
   "source": []
  }
 ],
 "metadata": {
  "kernelspec": {
   "display_name": ".NET (F#)",
   "language": "F#",
   "name": ".net-fsharp"
  },
  "language_info": {
   "file_extension": ".fs",
   "mimetype": "text/x-fsharp",
   "name": "C#",
   "pygments_lexer": "fsharp",
   "version": "4.5"
  }
 },
 "nbformat": 4,
 "nbformat_minor": 4
}
